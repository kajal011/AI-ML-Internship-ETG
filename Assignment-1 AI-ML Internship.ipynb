{
 "cells": [
  {
   "cell_type": "code",
   "execution_count": 1,
   "metadata": {},
   "outputs": [],
   "source": [
    "import json"
   ]
  },
  {
   "cell_type": "code",
   "execution_count": 2,
   "metadata": {},
   "outputs": [],
   "source": [
    "fd = open(\"record.json\",\"w\")\n",
    "products = {'1001':{\"name\":\"Dairy Milk\",\"price\":40,\"quantity\":100},\n",
    " '1002':{\"name\":\"Barbon\",\"price\":40,\"quantity\":100},\n",
    " '1003':{\"name\":\"Jackfruit Juice\",\"price\":40,\"quantity\":100} ,\n",
    " '1004':{\"name\":\"Apricot Juice\",\"price\":40,\"quantity\":100},\n",
    " '1005':{\"name\":\"Butter Fruit Juice\",\"price\":40,\"quantity\":100},\n",
    " '1006':{\"name\":\"Banana Juice\",\"price\":40,\"quantity\":100},\n",
    " '1007':{\"name\":\"Cape Gooseberries Juice\",\"price\":40,\"quantity\":100},\n",
    " '1008':{\"name\":\"Cherry Juice\",\"price\":40,\"quantity\":100},\n",
    " '1009':{\"name\":\"Custard Apple Juice\",\"price\":40,\"quantity\":100},\n",
    " '1010':{\"name\":\"Dates Juice\",\"price\":40,\"quantity\":100},\n",
    " '1011':{\"name\":\"Plum Juice\",\"price\":40,\"quantity\":100},\n",
    " '1012':{\"name\":\"Figs Juice\",\"price\":40,\"quantity\":100},\n",
    " '1013':{\"name\":\"Grape Juice\",\"price\":40,\"quantity\":100},\n",
    " '1014':{\"name\":\"Guava Juice\",\"price\":40,\"quantity\":100},\n",
    " '1015':{\"name\":\"Kiwi Juice\",\"price\":40,\"quantity\":100},\n",
    " '1016':{\"name\":\"Lemon Juice\",\"price\":40,\"quantity\":100},\n",
    " '1017':{\"name\":\"Lychee Juice\",\"price\":40,\"quantity\":100},\n",
    " '1018':{\"name\":\"Mango Juice\",\"price\":40,\"quantity\":100},\n",
    " '1019':{\"name\":\"Papaya Juice\",\"price\":40,\"quantity\":100},\n",
    " '1020':{\"name\":\"Pineapple Juice\",\"price\":40,\"quantity\":100},\n",
    " '1021':{\"name\":\"Sapota Juice\",\"price\":40,\"quantity\":100},\n",
    " '1022':{\"name\":\"Star fruit Juice\",\"price\":40,\"quantity\":100},\n",
    " '1023':{\"name\":\"Watermelon Juice\",\"price\":40,\"quantity\":100},\n",
    " '1024':{\"name\":\"Rose Milk\",\"price\":40,\"quantity\":100},\n",
    " '1025':{\"name\":\"Badam Milk \",\"price\":40,\"quantity\":100},\n",
    " '1026':{\"name\":\"Vanilla Milk\",\"price\":40,\"quantity\":100},\n",
    " '1027':{\"name\":\"Pista Milk\",\"price\":40,\"quantity\":100},\n",
    " '1028':{\"name\":\"Blackcurrent Milk\",\"price\":40,\"quantity\":100},\n",
    " '1028':{\"name\":\"Mixed Juice\",\"price\":40,\"quantity\":100},\n",
    " '1029':{\"name\":\"Mojito\",\"price\":40,\"quantity\":100},\n",
    " '1030':{\"name\":\"Pulm Juice\",\"price\":40,\"quantity\":100}}\n",
    "\n",
    "js = json.dumps(products)\n",
    "fd.write(js)\n",
    "fd.close()"
   ]
  },
  {
   "cell_type": "code",
   "execution_count": 3,
   "metadata": {},
   "outputs": [
    {
     "name": "stdout",
     "output_type": "stream",
     "text": [
      "       Product Catalog\n",
      "--------------------------------\n",
      "Product_id  |  Product_name\n",
      "\n",
      "1001        |   Dairy Milk\n",
      "1002        |   Barbon\n",
      "1003        |   Jackfruit Juice\n",
      "1004        |   Apricot Juice\n",
      "1005        |   Butter Fruit Juice\n",
      "1006        |   Banana Juice\n",
      "1007        |   Cape Gooseberries Juice\n",
      "1008        |   Cherry Juice\n",
      "1009        |   Custard Apple Juice\n",
      "1010        |   Dates Juice\n",
      "1011        |   Plum Juice\n",
      "1012        |   Figs Juice\n",
      "1013        |   Grape Juice\n",
      "1014        |   Guava Juice\n",
      "1015        |   Kiwi Juice\n",
      "1016        |   Lemon Juice\n",
      "1017        |   Lychee Juice\n",
      "1018        |   Mango Juice\n",
      "1019        |   Papaya Juice\n",
      "1020        |   Pineapple Juice\n",
      "1021        |   Sapota Juice\n",
      "1022        |   Star fruit Juice\n",
      "1023        |   Watermelon Juice\n",
      "1024        |   Rose Milk\n",
      "1025        |   Badam Milk \n",
      "1026        |   Vanilla Milk\n",
      "1027        |   Pista Milk\n",
      "1028        |   Mixed Juice\n",
      "1029        |   Mojito\n",
      "1030        |   Pulm Juice\n"
     ]
    }
   ],
   "source": [
    "print(\"       Product Catalog\")\n",
    "print(\"--------------------------------\")\n",
    "print(\"Product_id  |  Product_name\",end=\"\\n\\n\")\n",
    "for i in products.keys():\n",
    "    print( f\"{i}        |   {products[i]['name']}\")"
   ]
  },
  {
   "cell_type": "code",
   "execution_count": 4,
   "metadata": {},
   "outputs": [
    {
     "name": "stdout",
     "output_type": "stream",
     "text": [
      "\n",
      "Enter the different number of items which are to be purchased: 4\n",
      "\n",
      "Enter the product ID: 1002\n",
      "\n",
      "Enter the quantity of product: 3\n",
      "\n",
      "Enter the product ID: 1020\n",
      "\n",
      "Enter the quantity of product: 7\n",
      "\n",
      "Enter the product ID: 1007\n",
      "\n",
      "Enter the quantity of product: 6\n",
      "\n",
      "Enter the product ID: 1030\n",
      "\n",
      "Enter the quantity of product: 3\n"
     ]
    }
   ],
   "source": [
    "value = int(input(\"\\nEnter the different number of items which are to be purchased: \")) #Taking Input For how much item customer want\n",
    "fd = open(\"record.json\",\"r\")  #Open Data Source file named as \"record\"\n",
    "opn = open(\"Bill.txt\",\"w\")  #opening Bill File For generating Bill\n",
    "read = fd.read()\n",
    "data = json.loads(read)\n",
    "\n",
    "total_bill=0\n",
    "opn.write(\"****************************************************************************************\")\n",
    "for i in range(value):\n",
    "    prod_id = input(\"\\nEnter the product ID: \") #Taking Input For Product ID as prod_id\n",
    "    quantity = int(input(\"\\nEnter the quantity of product: \"))  #Taking Input For Quantity as quan\n",
    "    if quantity < data[prod_id][\"quantity\"]:\n",
    "        data[prod_id][\"quantity\"] = data[prod_id][\"quantity\"] - quantity\n",
    "        total_bill += quantity * data[prod_id][\"price\"]\n",
    "    \n",
    "    opn.write(f\"\\nProduct ID: {prod_id} \\nProduct Name: {data[prod_id]['name']} \\nQuantity: {quantity}\\n\")\n",
    "opn.write(\"----------------------------------------\")\n",
    "opn.write(f'\\n Your Payable Amount: {total_bill}\\n')\n",
    "opn.write(\"****************************************************************************************\")\n",
    "\n",
    "opn.close()\n",
    "fd.close()"
   ]
  },
  {
   "cell_type": "code",
   "execution_count": null,
   "metadata": {},
   "outputs": [],
   "source": []
  }
 ],
 "metadata": {
  "kernelspec": {
   "display_name": "Python 3",
   "language": "python",
   "name": "python3"
  },
  "language_info": {
   "codemirror_mode": {
    "name": "ipython",
    "version": 3
   },
   "file_extension": ".py",
   "mimetype": "text/x-python",
   "name": "python",
   "nbconvert_exporter": "python",
   "pygments_lexer": "ipython3",
   "version": "3.8.3"
  }
 },
 "nbformat": 4,
 "nbformat_minor": 4
}
